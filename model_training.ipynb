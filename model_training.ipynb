{
 "cells": [
  {
   "cell_type": "code",
   "execution_count": 17,
   "id": "ca8f2fe3",
   "metadata": {},
   "outputs": [
    {
     "name": "stdout",
     "output_type": "stream",
     "text": [
      "✅ Dataset dimuat: (545, 27)\n",
      "   Unnamed: 0                      doc_id  sdg01  sdg02  sdg03  sdg04  sdg05  \\\n",
      "0           1  BE0003739530_2016_SR_0.pdf      1      0      7      0      0   \n",
      "1           2  BE0003739530_2020_IR_0.pdf      2      0      7      0      0   \n",
      "2           3  BE0974293251_2016_SR_0.pdf      2      3      0      0      0   \n",
      "3           4  BE0974293251_2020_IR_0.pdf      1      0     16      0      2   \n",
      "4           5  CH0008742519_2016_SR_0.pdf      0      0      2      1      0   \n",
      "\n",
      "   sdg06  sdg07  sdg08  ...  sdg16  sgd17  sdg  gc  gri  int       company  \\\n",
      "0      0      3      2  ...      3      4   12   1   13    0  BE0003739530   \n",
      "1      0      1      0  ...      6      5   22   0   40    0  BE0003739530   \n",
      "2      5      1      3  ...      3      5    8   0    3    0  BE0974293251   \n",
      "3     11     10      4  ...      0      8   10   0    2    0  BE0974293251   \n",
      "4      0     53      0  ...      3      5    3   0   39    0  CH0008742519   \n",
      "\n",
      "   country  year  ctrygrp  \n",
      "0       BE  2016      EUR  \n",
      "1       BE  2020      EUR  \n",
      "2       BE  2016      EUR  \n",
      "3       BE  2020      EUR  \n",
      "4       CH  2016      EUR  \n",
      "\n",
      "[5 rows x 27 columns]\n",
      "Kolom: ['Unnamed: 0', 'doc_id', 'sdg01', 'sdg02', 'sdg03', 'sdg04', 'sdg05', 'sdg06', 'sdg07', 'sdg08', 'sdg09', 'sdg10', 'sdg11', 'sdg12', 'sdg13', 'sdg14', 'sdg15', 'sdg16', 'sgd17', 'sdg', 'gc', 'gri', 'int', 'company', 'country', 'year', 'ctrygrp']\n"
     ]
    }
   ],
   "source": [
    "import pandas as pd\n",
    "import pickle\n",
    "from sklearn.linear_model import LogisticRegression\n",
    "from sklearn.model_selection import train_test_split\n",
    "from sklearn.metrics import classification_report, accuracy_score\n",
    "\n",
    "file_path = \"SDG_frequencies_absolute.txt\"\n",
    "\n",
    "# coba autodetect delimiter\n",
    "df = pd.read_csv(file_path, sep=None, engine=\"python\")\n",
    "\n",
    "print(\"✅ Dataset dimuat:\", df.shape)\n",
    "print(df.head())             # tampilkan 5 baris pertama\n",
    "print(\"Kolom:\", df.columns.tolist())\n"
   ]
  },
  {
   "cell_type": "code",
   "execution_count": 18,
   "id": "9b177019",
   "metadata": {},
   "outputs": [
    {
     "name": "stdout",
     "output_type": "stream",
     "text": [
      "Kolom SDG terdeteksi: ['sdg01', 'sdg02', 'sdg03', 'sdg04', 'sdg05', 'sdg06', 'sdg07', 'sdg08', 'sdg09', 'sdg10', 'sdg11', 'sdg12', 'sdg13', 'sdg14', 'sdg15', 'sdg16', 'sdg']\n",
      "Contoh fitur: {'sdg01': 1, 'sdg02': 0, 'sdg03': 7, 'sdg04': 0, 'sdg05': 0, 'sdg06': 0, 'sdg07': 3, 'sdg08': 2, 'sdg09': 0, 'sdg10': 1, 'sdg11': 0, 'sdg12': 0, 'sdg13': 3, 'sdg14': 0, 'sdg15': 0, 'sdg16': 3, 'sdg': 12}\n",
      "Label: sdg\n"
     ]
    }
   ],
   "source": [
    "# ambil kolom yang mengandung 'sdg'\n",
    "sdg_cols = [c for c in df.columns if \"sdg\" in c.lower()]\n",
    "print(\"Kolom SDG terdeteksi:\", sdg_cols)\n",
    "\n",
    "X = df[sdg_cols]\n",
    "y = df[sdg_cols].idxmax(axis=1)\n",
    "\n",
    "print(\"Contoh fitur:\", X.iloc[0].to_dict())\n",
    "print(\"Label:\", y.iloc[0])"
   ]
  },
  {
   "cell_type": "code",
   "execution_count": 19,
   "id": "70584be8",
   "metadata": {},
   "outputs": [
    {
     "name": "stdout",
     "output_type": "stream",
     "text": [
      "✅ Dataset dimuat: (545, 27)\n",
      "Kolom: ['Unnamed: 0', 'doc_id', 'sdg01', 'sdg02', 'sdg03', 'sdg04', 'sdg05', 'sdg06', 'sdg07', 'sdg08', 'sdg09', 'sdg10', 'sdg11', 'sdg12', 'sdg13', 'sdg14', 'sdg15', 'sdg16', 'sgd17', 'sdg']\n",
      "Kolom SDG: ['sdg01', 'sdg02', 'sdg03', 'sdg04', 'sdg05', 'sdg06', 'sdg07', 'sdg08', 'sdg09', 'sdg10', 'sdg11', 'sdg12', 'sdg13', 'sdg14', 'sdg15', 'sdg16', 'sdg']\n",
      "\n",
      "Contoh fitur baris 1:\n",
      " {'sdg01': 1, 'sdg02': 0, 'sdg03': 7, 'sdg04': 0, 'sdg05': 0, 'sdg06': 0, 'sdg07': 3, 'sdg08': 2, 'sdg09': 0, 'sdg10': 1, 'sdg11': 0, 'sdg12': 0, 'sdg13': 3, 'sdg14': 0, 'sdg15': 0, 'sdg16': 3, 'sdg': 12}\n",
      "Label: sdg\n",
      "\n",
      "✅ Akurasi: 0.908256880733945\n",
      "\n",
      "               precision    recall  f1-score   support\n",
      "\n",
      "         sdg       1.00      0.83      0.91        12\n",
      "       sdg01       0.25      1.00      0.40         2\n",
      "       sdg02       0.00      0.00      0.00         2\n",
      "       sdg03       1.00      0.60      0.75         5\n",
      "       sdg04       1.00      1.00      1.00         1\n",
      "       sdg05       0.00      0.00      0.00         1\n",
      "       sdg06       1.00      1.00      1.00         2\n",
      "       sdg07       0.96      1.00      0.98        26\n",
      "       sdg08       1.00      0.50      0.67         2\n",
      "       sdg10       1.00      1.00      1.00         1\n",
      "       sdg11       1.00      1.00      1.00         1\n",
      "       sdg12       1.00      1.00      1.00         1\n",
      "       sdg13       0.94      1.00      0.97        31\n",
      "       sdg15       0.92      0.86      0.89        14\n",
      "       sdg16       1.00      1.00      1.00         8\n",
      "\n",
      "    accuracy                           0.91       109\n",
      "   macro avg       0.81      0.79      0.77       109\n",
      "weighted avg       0.92      0.91      0.91       109\n",
      "\n",
      "\n",
      "💾 Model berhasil disimpan sebagai csr_sdg_logreg_model.pkl\n"
     ]
    },
    {
     "name": "stderr",
     "output_type": "stream",
     "text": [
      "/Library/Frameworks/Python.framework/Versions/3.13/lib/python3.13/site-packages/sklearn/linear_model/_logistic.py:1272: FutureWarning: 'multi_class' was deprecated in version 1.5 and will be removed in 1.8. From then on, it will always use 'multinomial'. Leave it to its default value to avoid this warning.\n",
      "  warnings.warn(\n",
      "/Library/Frameworks/Python.framework/Versions/3.13/lib/python3.13/site-packages/sklearn/metrics/_classification.py:1731: UndefinedMetricWarning: Precision is ill-defined and being set to 0.0 in labels with no predicted samples. Use `zero_division` parameter to control this behavior.\n",
      "  _warn_prf(average, modifier, f\"{metric.capitalize()} is\", result.shape[0])\n",
      "/Library/Frameworks/Python.framework/Versions/3.13/lib/python3.13/site-packages/sklearn/metrics/_classification.py:1731: UndefinedMetricWarning: Precision is ill-defined and being set to 0.0 in labels with no predicted samples. Use `zero_division` parameter to control this behavior.\n",
      "  _warn_prf(average, modifier, f\"{metric.capitalize()} is\", result.shape[0])\n",
      "/Library/Frameworks/Python.framework/Versions/3.13/lib/python3.13/site-packages/sklearn/metrics/_classification.py:1731: UndefinedMetricWarning: Precision is ill-defined and being set to 0.0 in labels with no predicted samples. Use `zero_division` parameter to control this behavior.\n",
      "  _warn_prf(average, modifier, f\"{metric.capitalize()} is\", result.shape[0])\n"
     ]
    }
   ],
   "source": [
    "# 1) Load dataset\n",
    "data_path = \"SDG_frequencies_absolute.txt\"\n",
    "df = pd.read_csv(data_path, sep=None, engine=\"python\")\n",
    "\n",
    "print(\"✅ Dataset dimuat:\", df.shape)\n",
    "print(\"Kolom:\", df.columns.tolist()[:20])\n",
    "\n",
    "# 2) Ambil hanya kolom sdg01..sdg17 sebagai fitur\n",
    "sdg_cols = [c for c in df.columns if c.lower().startswith(\"sdg\")]\n",
    "print(\"Kolom SDG:\", sdg_cols)\n",
    "\n",
    "X = df[sdg_cols]            # fitur = frekuensi SDG\n",
    "y = df[sdg_cols].idxmax(axis=1)  # label = SDG dominan\n",
    "\n",
    "print(\"\\nContoh fitur baris 1:\\n\", X.iloc[0].to_dict())\n",
    "print(\"Label:\", y.iloc[0])\n",
    "\n",
    "# 3) Train/Test split\n",
    "X_train, X_test, y_train, y_test = train_test_split(\n",
    "    X, y, test_size=0.2, random_state=42, stratify=y\n",
    ")\n",
    "\n",
    "# 4) Train Logistic Regression\n",
    "model = LogisticRegression(max_iter=500, multi_class=\"multinomial\", solver=\"lbfgs\")\n",
    "model.fit(X_train, y_train)\n",
    "\n",
    "# 5) Evaluasi\n",
    "y_pred = model.predict(X_test)\n",
    "print(\"\\n✅ Akurasi:\", accuracy_score(y_test, y_pred))\n",
    "print(\"\\n\", classification_report(y_test, y_pred))\n",
    "\n",
    "# 6) Simpan model\n",
    "with open(\"csr_sdg_logreg_model.pkl\", \"wb\") as f:\n",
    "    pickle.dump(model, f)\n",
    "\n",
    "print(\"\\n💾 Model berhasil disimpan sebagai csr_sdg_logreg_model.pkl\")\n"
   ]
  },
  {
   "cell_type": "code",
   "execution_count": 20,
   "id": "ca46f49f",
   "metadata": {},
   "outputs": [
    {
     "name": "stdout",
     "output_type": "stream",
     "text": [
      "Fitur input: {'sdg01': {76: 3}, 'sdg02': {76: 2}, 'sdg03': {76: 2}, 'sdg04': {76: 0}, 'sdg05': {76: 0}, 'sdg06': {76: 6}, 'sdg07': {76: 26}, 'sdg08': {76: 1}, 'sdg09': {76: 1}, 'sdg10': {76: 6}, 'sdg11': {76: 0}, 'sdg12': {76: 0}, 'sdg13': {76: 20}, 'sdg14': {76: 0}, 'sdg15': {76: 2}, 'sdg16': {76: 13}, 'sdg': {76: 14}}\n",
      "Prediksi: ['sdg07']\n"
     ]
    }
   ],
   "source": [
    "# Load model\n",
    "import pickle\n",
    "model = pickle.load(open(\"csr_sdg_logreg_model.pkl\",\"rb\"))\n",
    "\n",
    "# Ambil contoh baris dari dataset\n",
    "sample = X_test.iloc[0:1]  # satu baris fitur\n",
    "print(\"Fitur input:\", sample.to_dict())\n",
    "\n",
    "# Prediksi\n",
    "pred = model.predict(sample)\n",
    "print(\"Prediksi:\", pred)\n"
   ]
  }
 ],
 "metadata": {
  "kernelspec": {
   "display_name": "Python 3",
   "language": "python",
   "name": "python3"
  },
  "language_info": {
   "codemirror_mode": {
    "name": "ipython",
    "version": 3
   },
   "file_extension": ".py",
   "mimetype": "text/x-python",
   "name": "python",
   "nbconvert_exporter": "python",
   "pygments_lexer": "ipython3",
   "version": "3.13.3"
  }
 },
 "nbformat": 4,
 "nbformat_minor": 5
}
