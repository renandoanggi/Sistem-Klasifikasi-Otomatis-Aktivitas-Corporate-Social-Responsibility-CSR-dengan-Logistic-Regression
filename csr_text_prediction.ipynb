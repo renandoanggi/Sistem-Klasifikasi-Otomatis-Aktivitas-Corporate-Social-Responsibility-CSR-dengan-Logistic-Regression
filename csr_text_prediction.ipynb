{
 "cells": [
  {
   "cell_type": "code",
   "execution_count": 27,
   "id": "22ab2e64",
   "metadata": {},
   "outputs": [
    {
     "name": "stdout",
     "output_type": "stream",
     "text": [
      "✅ Model berhasil dimuat.\n"
     ]
    }
   ],
   "source": [
    "import pickle\n",
    "import pandas as pd\n",
    "\n",
    "model = pickle.load(open(\"csr_sdg_logreg_model.pkl\", \"rb\"))\n",
    "print(\"✅ Model berhasil dimuat.\")\n",
    "\n",
    "sdg_dict = {\n",
    "    \"sdg01\": [\"poverty\",\"kemiskinan\"],\n",
    "    \"sdg02\": [\"hunger\",\"kelaparan\",\"pangan\",\"gizi\"],\n",
    "    \"sdg03\": [\"health\",\"kesehatan\",\"rumah sakit\",\"obat\",\"penyakit\"],\n",
    "    \"sdg04\": [\"education\",\"pendidikan\",\"sekolah\",\"literasi\"],\n",
    "    \"sdg05\": [\"gender\",\"wanita\",\"kesetaraan\",\"perempuan\"],\n",
    "    \"sdg06\": [\"water\",\"air bersih\",\"sanitasi\",\"hygiene\"],\n",
    "    \"sdg07\": [\"energy\",\"energi terbarukan\",\"energi bersih\",\"renewable energy\"],\n",
    "    \"sdg08\": [\"work\",\"job\",\"pekerjaan\",\"ekonomi\",\"pertumbuhan\"],\n",
    "    \"sdg09\": [\"industry\",\"infrastruktur\",\"inovasi\",\"technology\"],\n",
    "    \"sdg10\": [\"inequality\",\"kesenjangan\",\"ketidaksetaraan\",\"inklusif\"],\n",
    "    \"sdg11\": [\"city\",\"kota\",\"perumahan\",\"transportasi\"],\n",
    "    \"sdg12\": [\"consumption\",\"produksi\",\"daur ulang\",\"limbah\",\"sampah\"],\n",
    "    \"sdg13\": [\"climate\",\"iklim\",\"emisi\",\"pemanasan\"],\n",
    "    \"sdg14\": [\"ocean\",\"laut\",\"ikan\",\"terumbu karang\",\"samudra\"],\n",
    "    \"sdg15\": [\"land\",\"hutan\",\"keanekaragaman\",\"hayati\"],\n",
    "    \"sdg16\": [\"justice\",\"hukum\",\"perdamaian\",\"damai\"],\n",
    "    \"sdg17\": [\"partnership\",\"kerjasama\",\"kemitraan\",\"kolaborasi\"]\n",
    "}\n",
    "\n",
    "expected_features = [\n",
    "    \"sdg01\",\"sdg02\",\"sdg03\",\"sdg04\",\"sdg05\",\"sdg06\",\"sdg07\",\n",
    "    \"sdg08\",\"sdg09\",\"sdg10\",\"sdg11\",\"sdg12\",\"sdg13\",\"sdg14\",\n",
    "    \"sdg15\",\"sdg16\",\"sdg\"  # <- sdg17 dipetakan ke 'sdg'\n",
    "]\n",
    "\n",
    "def extract_features(text):\n",
    "    text_low = text.lower()\n",
    "    feats = {feat: 0 for feat in expected_features}\n",
    "\n",
    "    for sdg, keywords in sdg_dict.items():\n",
    "        count = sum(text_low.count(k.lower()) for k in keywords)\n",
    "        if sdg == \"sdg17\":\n",
    "            feats[\"sdg\"] += count   # map sdg17 → sdg\n",
    "        else:\n",
    "            feats[sdg] = count\n",
    "    return feats\n",
    "\n",
    "def predict_from_text(text):\n",
    "    feats = extract_features(text)\n",
    "    X = pd.DataFrame([feats])[expected_features]\n",
    "    pred = model.predict(X)[0]\n",
    "    probs = model.predict_proba(X)[0]\n",
    "\n",
    "    top_idx = probs.argsort()[::-1][:3]\n",
    "    top_preds = [(model.classes_[i].upper(), float(round(probs[i], 3))) for i in top_idx]\n",
    "\n",
    "    print(\"\\n📄 INPUT TEKS :\", text)\n",
    "    \n",
    "    print(\"📊 FITUR :\")\n",
    "    for k, v in feats.items():\n",
    "        print(f\"{k.upper():6} : {v}\")\n",
    "\n",
    "    print(\"🔎 TOP-3 :\")\n",
    "    for cls, p in top_preds:\n",
    "        print(f\"{cls:6} : {p}\")\n",
    "\n",
    "    print(\"🎯 PREDIKSI :\", pred.upper())"
   ]
  },
  {
   "cell_type": "code",
   "execution_count": 44,
   "id": "5973bddd",
   "metadata": {},
   "outputs": [
    {
     "name": "stdout",
     "output_type": "stream",
     "text": [
      "\n",
      "📄 INPUT TEKS : Proyek energi terbarukan untuk listrik desa terpencil.\n",
      "📊 FITUR :\n",
      "SDG01  : 0\n",
      "SDG02  : 0\n",
      "SDG03  : 0\n",
      "SDG04  : 0\n",
      "SDG05  : 0\n",
      "SDG06  : 0\n",
      "SDG07  : 1\n",
      "SDG08  : 0\n",
      "SDG09  : 0\n",
      "SDG10  : 0\n",
      "SDG11  : 0\n",
      "SDG12  : 0\n",
      "SDG13  : 0\n",
      "SDG14  : 0\n",
      "SDG15  : 0\n",
      "SDG16  : 0\n",
      "SDG    : 0\n",
      "🔎 TOP-3 :\n",
      "SDG07  : 0.717\n",
      "SDG01  : 0.178\n",
      "SDG15  : 0.027\n",
      "🎯 PREDIKSI : SDG07\n"
     ]
    }
   ],
   "source": [
    "# Masukkan input disini\n",
    "predict_from_text(\"Proyek energi terbarukan untuk listrik desa terpencil.\")"
   ]
  }
 ],
 "metadata": {
  "kernelspec": {
   "display_name": "Python 3",
   "language": "python",
   "name": "python3"
  },
  "language_info": {
   "codemirror_mode": {
    "name": "ipython",
    "version": 3
   },
   "file_extension": ".py",
   "mimetype": "text/x-python",
   "name": "python",
   "nbconvert_exporter": "python",
   "pygments_lexer": "ipython3",
   "version": "3.13.3"
  }
 },
 "nbformat": 4,
 "nbformat_minor": 5
}
